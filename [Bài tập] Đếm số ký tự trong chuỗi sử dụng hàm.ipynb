{
 "cells": [
  {
   "cell_type": "code",
   "execution_count": 2,
   "id": "885283fb-8455-4786-a672-0695ab8d7891",
   "metadata": {},
   "outputs": [
    {
     "name": "stdin",
     "output_type": "stream",
     "text": [
      "Your string:  my name is huong\n"
     ]
    },
    {
     "name": "stdout",
     "output_type": "stream",
     "text": [
      "Length:  16\n"
     ]
    }
   ],
   "source": [
    "def count_chars(txt):\n",
    "    result = 0\n",
    "    for char in txt:\n",
    "        result += 1\n",
    "    return result\n",
    "\n",
    "input_str = input('Your string: ')\n",
    "print('Length: ', count_chars(input_str))"
   ]
  },
  {
   "cell_type": "code",
   "execution_count": null,
   "id": "60bdfa3e-2306-4a4b-95cd-354cb7ce632e",
   "metadata": {},
   "outputs": [],
   "source": []
  }
 ],
 "metadata": {
  "kernelspec": {
   "display_name": "Python 3 (ipykernel)",
   "language": "python",
   "name": "python3"
  },
  "language_info": {
   "codemirror_mode": {
    "name": "ipython",
    "version": 3
   },
   "file_extension": ".py",
   "mimetype": "text/x-python",
   "name": "python",
   "nbconvert_exporter": "python",
   "pygments_lexer": "ipython3",
   "version": "3.12.3"
  }
 },
 "nbformat": 4,
 "nbformat_minor": 5
}
