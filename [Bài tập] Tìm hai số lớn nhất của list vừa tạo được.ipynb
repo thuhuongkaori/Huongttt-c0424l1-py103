{
 "cells": [
  {
   "cell_type": "code",
   "execution_count": 2,
   "id": "047ca9ae-02e0-4b73-bb55-12967d029a7b",
   "metadata": {},
   "outputs": [
    {
     "name": "stdout",
     "output_type": "stream",
     "text": [
      "[72, 86]\n"
     ]
    }
   ],
   "source": [
    "#Khởi  tạo một list chứa các số cho trước. Tìm hai số lớn nhất của list vừa tạo được\n",
    "list = [1,23,7,86,72,5]\n",
    "sort_list = sorted(list)\n",
    "two_largest_number = sort_list[-2:]\n",
    "print(two_largest_number)"
   ]
  },
  {
   "cell_type": "code",
   "execution_count": null,
   "id": "381eb870-4d5f-4930-b005-3df28a84d92e",
   "metadata": {},
   "outputs": [],
   "source": []
  }
 ],
 "metadata": {
  "kernelspec": {
   "display_name": "Python 3 (ipykernel)",
   "language": "python",
   "name": "python3"
  },
  "language_info": {
   "codemirror_mode": {
    "name": "ipython",
    "version": 3
   },
   "file_extension": ".py",
   "mimetype": "text/x-python",
   "name": "python",
   "nbconvert_exporter": "python",
   "pygments_lexer": "ipython3",
   "version": "3.12.3"
  }
 },
 "nbformat": 4,
 "nbformat_minor": 5
}
