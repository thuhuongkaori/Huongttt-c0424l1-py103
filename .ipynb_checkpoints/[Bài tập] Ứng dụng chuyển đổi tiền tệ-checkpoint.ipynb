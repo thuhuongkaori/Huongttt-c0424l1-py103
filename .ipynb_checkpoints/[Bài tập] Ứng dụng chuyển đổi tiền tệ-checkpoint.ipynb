{
 "cells": [
  {
   "cell_type": "code",
   "execution_count": 6,
   "id": "5dbf2eec-7523-48f6-bdaf-16fab89b2dda",
   "metadata": {},
   "outputs": [
    {
     "name": "stdin",
     "output_type": "stream",
     "text": [
      "Nhap so tien usd: 2\n",
      "nhap ti gia: 22000\n"
     ]
    },
    {
     "name": "stdout",
     "output_type": "stream",
     "text": [
      "so tien vnd tuong ung la: 44000.0\n"
     ]
    }
   ],
   "source": [
    "#Ứng dụng chuyển đổi tiền tệ cho phép tính giá trị tiền tệ giữa các đồng tiền khác nhau dựa vào một tỉ giá cho trước.\n",
    "usd_amount = float(input(\"Nhap so tien usd:\"))\n",
    "exchange_rate = float(input(\"nhap ti gia:\"))\n",
    "vnd_amount = usd_amount * exchange_rate\n",
    "print(\"so tien vnd tuong ung la:\", vnd_amount)"
   ]
  },
  {
   "cell_type": "code",
   "execution_count": null,
   "id": "4a6077bb-274e-4fc9-8fd7-b56849d0fdf1",
   "metadata": {},
   "outputs": [],
   "source": []
  }
 ],
 "metadata": {
  "kernelspec": {
   "display_name": "Python 3 (ipykernel)",
   "language": "python",
   "name": "python3"
  },
  "language_info": {
   "codemirror_mode": {
    "name": "ipython",
    "version": 3
   },
   "file_extension": ".py",
   "mimetype": "text/x-python",
   "name": "python",
   "nbconvert_exporter": "python",
   "pygments_lexer": "ipython3",
   "version": "3.12.3"
  }
 },
 "nbformat": 4,
 "nbformat_minor": 5
}
