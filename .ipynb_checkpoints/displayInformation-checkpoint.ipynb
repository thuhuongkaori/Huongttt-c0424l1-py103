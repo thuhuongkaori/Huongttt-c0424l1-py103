{
 "cells": [
  {
   "cell_type": "code",
   "execution_count": 3,
   "id": "9bcdb002-e821-4bd7-b102-e566b722d8e3",
   "metadata": {},
   "outputs": [
    {
     "name": "stdout",
     "output_type": "stream",
     "text": [
      "Ho va ten: Huongttt\n",
      "Ngay sinh: 23/07/1990\n",
      "Dia chi: Duy Tan\n",
      "Muc dich hoc python: hoc mon phan tich du lieu\n"
     ]
    }
   ],
   "source": [
    "print(\"Ho va ten: Huongttt\")\n",
    "print(\"Ngay sinh: 23/07/1990\")\n",
    "print(\"Dia chi: Duy Tan\")\n",
    "print(\"Muc dich hoc python: hoc mon phan tich du lieu\")"
   ]
  },
  {
   "cell_type": "code",
   "execution_count": null,
   "id": "f220cff6-335d-4535-8431-a0d2eebf26f4",
   "metadata": {},
   "outputs": [],
   "source": []
  }
 ],
 "metadata": {
  "kernelspec": {
   "display_name": "Python 3 (ipykernel)",
   "language": "python",
   "name": "python3"
  },
  "language_info": {
   "codemirror_mode": {
    "name": "ipython",
    "version": 3
   },
   "file_extension": ".py",
   "mimetype": "text/x-python",
   "name": "python",
   "nbconvert_exporter": "python",
   "pygments_lexer": "ipython3",
   "version": "3.12.3"
  }
 },
 "nbformat": 4,
 "nbformat_minor": 5
}
