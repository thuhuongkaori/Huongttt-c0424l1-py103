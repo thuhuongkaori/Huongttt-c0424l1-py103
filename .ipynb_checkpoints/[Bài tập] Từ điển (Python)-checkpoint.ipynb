{
 "cells": [
  {
   "cell_type": "code",
   "execution_count": 5,
   "id": "421ee885-d0a7-4835-adc4-ee76153fc97d",
   "metadata": {},
   "outputs": [
    {
     "name": "stdin",
     "output_type": "stream",
     "text": [
      "nhap tu can dich: dog\n"
     ]
    },
    {
     "name": "stdout",
     "output_type": "stream",
     "text": [
      "nghia cua tu 'dog': cho\n"
     ]
    }
   ],
   "source": [
    "#Viết chương trình cho phép người dùng tra cứu các từ tiếng Anh sang tiếng Việt bằng cách nhập từ cần tra cứu. \n",
    "#Danh sách các từ được lưu trữ sẵn trong một Dictionary.\n",
    "dic = {\n",
    "    \"dog\": \"cho\",\n",
    "    \"cat\": \"meo\",\n",
    "    \"bird\": \"chim\",\n",
    "    \"fish\": \"ca\",\n",
    "    \"tiger\": \"ho\"\n",
    "}\n",
    "\n",
    "def lookup_word(dic, word):\n",
    "    for key, value in dic.items():\n",
    "        if key.lower() == word.lower():\n",
    "            return value\n",
    "        return None\n",
    "\n",
    "input_word = input(\"nhap tu can dich:\")\n",
    "\n",
    "translated_word = lookup_word(dic, input_word)\n",
    "\n",
    "if lookup_word:\n",
    "    print(f\"nghia cua tu '{input_word}': {translated_word}\")\n",
    "else:\n",
    "    print(f\"tu '{input_word}' khong co trong tu dien\")"
   ]
  },
  {
   "cell_type": "code",
   "execution_count": null,
   "id": "9c8128da-7eb8-42ef-a254-66a47d289f75",
   "metadata": {},
   "outputs": [],
   "source": []
  }
 ],
 "metadata": {
  "kernelspec": {
   "display_name": "Python 3 (ipykernel)",
   "language": "python",
   "name": "python3"
  },
  "language_info": {
   "codemirror_mode": {
    "name": "ipython",
    "version": 3
   },
   "file_extension": ".py",
   "mimetype": "text/x-python",
   "name": "python",
   "nbconvert_exporter": "python",
   "pygments_lexer": "ipython3",
   "version": "3.12.3"
  }
 },
 "nbformat": 4,
 "nbformat_minor": 5
}
