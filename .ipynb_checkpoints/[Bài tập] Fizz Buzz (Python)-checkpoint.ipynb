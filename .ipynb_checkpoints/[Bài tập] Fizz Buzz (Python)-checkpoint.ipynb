{
 "cells": [
  {
   "cell_type": "code",
   "execution_count": 10,
   "id": "28b62aa1-ffbb-43ad-809b-28904a57212c",
   "metadata": {},
   "outputs": [
    {
     "name": "stdin",
     "output_type": "stream",
     "text": [
      "Nhập số bắt đầu và số kết thúc, cách nhau bằng khoảng trắng:  12 34\n"
     ]
    },
    {
     "name": "stdout",
     "output_type": "stream",
     "text": [
      "Fizz\n",
      "13\n",
      "14\n",
      "FizzBuzz\n",
      "16\n",
      "17\n",
      "Fizz\n",
      "19\n",
      "Buzz\n",
      "Fizz\n",
      "22\n",
      "23\n",
      "Fizz\n",
      "Buzz\n",
      "26\n",
      "Fizz\n",
      "28\n",
      "29\n",
      "FizzBuzz\n",
      "31\n",
      "32\n",
      "Fizz\n",
      "34\n"
     ]
    }
   ],
   "source": [
    "#Viết chương trình lấy đầu vào là hai số nguyên: đầu và cuối khoảng (cả hai số đều thuộc khoảng).\n",
    "#Chương trình sẽ in ra các số trong khoảng này. Nhưng nếu số đó chia hết cho 3, bạn sẽ in ra “Fizz” thay vì nó, nếu số đó chia hết cho 5, in ra “Buzz” và nếu số đó chia hết cho cả 3 và 5, hãy in ra “FizzBuzz”.\n",
    "input_numbers = input(\"Nhập số bắt đầu và số kết thúc, cách nhau bằng khoảng trắng: \")\n",
    "start, end = map(int, input_numbers.split())\n",
    "\n",
    "if end < start:\n",
    "    print(\"Số kết thúc cần lớn hơn số bắt đầu.\")\n",
    "else:\n",
    "    for i in range(start, end + 1):\n",
    "        if i % 3 == 0 and i % 5 == 0:\n",
    "            print(\"FizzBuzz\")\n",
    "        elif i % 3 == 0:\n",
    "            print(\"Fizz\")\n",
    "        elif i % 5 == 0:\n",
    "            print(\"Buzz\")\n",
    "        else:\n",
    "            print(i)"
   ]
  },
  {
   "cell_type": "code",
   "execution_count": null,
   "id": "26a6efa4-028c-4d55-b9c7-4e4fc10450c6",
   "metadata": {},
   "outputs": [],
   "source": []
  }
 ],
 "metadata": {
  "kernelspec": {
   "display_name": "Python 3 (ipykernel)",
   "language": "python",
   "name": "python3"
  },
  "language_info": {
   "codemirror_mode": {
    "name": "ipython",
    "version": 3
   },
   "file_extension": ".py",
   "mimetype": "text/x-python",
   "name": "python",
   "nbconvert_exporter": "python",
   "pygments_lexer": "ipython3",
   "version": "3.12.3"
  }
 },
 "nbformat": 4,
 "nbformat_minor": 5
}
