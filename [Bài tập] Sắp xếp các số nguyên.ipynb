{
 "cells": [
  {
   "cell_type": "code",
   "execution_count": 4,
   "id": "0abd2854-31b2-460e-a8df-075ee4b7a3f5",
   "metadata": {},
   "outputs": [
    {
     "name": "stdin",
     "output_type": "stream",
     "text": [
      "Enter first number:  12\n",
      "Enter second number:  34\n",
      "Enter third number:  56\n"
     ]
    },
    {
     "name": "stdout",
     "output_type": "stream",
     "text": [
      "Original numbers:  12 34 56\n",
      "Sorted numbers:  12 34 56\n"
     ]
    }
   ],
   "source": [
    "def sort_numbers(num1, num2, num3):\n",
    "    temp = 0\n",
    "    if num2 < num1 and num2 < num3:\n",
    "        temp = num1\n",
    "        num1 = num2\n",
    "        num2 = temp\n",
    "        \n",
    "    elif num3 < num1 and num3 < num2:\n",
    "        temp = num1\n",
    "        num1 = num3\n",
    "        num3 = temp\n",
    "        \n",
    "    if num3 < num2:\n",
    "        temp = num2\n",
    "        num2 = num3\n",
    "        num3 = temp\n",
    "        \n",
    "    return (num1, num2, num3)\n",
    "        \n",
    "x = int(input(\"Enter first number: \"))\n",
    "y = int(input(\"Enter second number: \"))\n",
    "z = int(input(\"Enter third number: \"))\n",
    "\n",
    "a, b, c = sort_numbers(x, y, z)\n",
    "print(\"Original numbers: \", x, y, z)\n",
    "print(\"Sorted numbers: \", a, b, c)"
   ]
  },
  {
   "cell_type": "code",
   "execution_count": null,
   "id": "1bdb544b-be53-4143-9d01-25ebcb9c4876",
   "metadata": {},
   "outputs": [],
   "source": []
  }
 ],
 "metadata": {
  "kernelspec": {
   "display_name": "Python 3 (ipykernel)",
   "language": "python",
   "name": "python3"
  },
  "language_info": {
   "codemirror_mode": {
    "name": "ipython",
    "version": 3
   },
   "file_extension": ".py",
   "mimetype": "text/x-python",
   "name": "python",
   "nbconvert_exporter": "python",
   "pygments_lexer": "ipython3",
   "version": "3.12.3"
  }
 },
 "nbformat": 4,
 "nbformat_minor": 5
}
