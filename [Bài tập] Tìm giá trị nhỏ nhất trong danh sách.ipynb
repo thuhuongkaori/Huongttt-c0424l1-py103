{
 "cells": [
  {
   "cell_type": "code",
   "execution_count": 11,
   "id": "795c6453-64ed-485c-a696-c5e09ba29d30",
   "metadata": {},
   "outputs": [
    {
     "name": "stdout",
     "output_type": "stream",
     "text": [
      "Min number:  12356556\n"
     ]
    }
   ],
   "source": [
    "def get_min_numbers(numbers):\n",
    "    result = numbers[0]\n",
    "    \n",
    "    for num in numbers:\n",
    "        if result > num:\n",
    "            result = num\n",
    "    return result\n",
    "\n",
    "min_number = get_min_numbers(numbers)\n",
    "print(\"Min number: \", min_number)"
   ]
  },
  {
   "cell_type": "code",
   "execution_count": null,
   "id": "0120dc3d-c50e-40bd-ac6c-0e17793e280a",
   "metadata": {},
   "outputs": [],
   "source": []
  }
 ],
 "metadata": {
  "kernelspec": {
   "display_name": "Python 3 (ipykernel)",
   "language": "python",
   "name": "python3"
  },
  "language_info": {
   "codemirror_mode": {
    "name": "ipython",
    "version": 3
   },
   "file_extension": ".py",
   "mimetype": "text/x-python",
   "name": "python",
   "nbconvert_exporter": "python",
   "pygments_lexer": "ipython3",
   "version": "3.12.3"
  }
 },
 "nbformat": 4,
 "nbformat_minor": 5
}
