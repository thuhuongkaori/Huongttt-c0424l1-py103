{
 "cells": [
  {
   "cell_type": "code",
   "execution_count": null,
   "id": "2fdbc2bf-cde8-4a57-9554-9987413bd98c",
   "metadata": {},
   "outputs": [],
   "source": [
    "#Pseudo-code – Chuyển độ C sang F\n",
    "Begin\n",
    "    Input C\n",
    "    F = (9*C)/5 + 32\n",
    "    Display F\n",
    "End"
   ]
  },
  {
   "cell_type": "markdown",
   "id": "c10b462a-e4be-40d7-8069-00bc155eed54",
   "metadata": {},
   "source": [
    "![title](img/python1.png)"
   ]
  },
  {
   "cell_type": "markdown",
   "id": "53bd8c14-1ca2-4caa-a6ba-36f22e764813",
   "metadata": {},
   "source": []
  },
  {
   "cell_type": "code",
   "execution_count": null,
   "id": "7ac0da4c-ceed-4d12-a81f-e801a17dfe72",
   "metadata": {},
   "outputs": [],
   "source": []
  }
 ],
 "metadata": {
  "kernelspec": {
   "display_name": "Python 3 (ipykernel)",
   "language": "python",
   "name": "python3"
  },
  "language_info": {
   "codemirror_mode": {
    "name": "ipython",
    "version": 3
   },
   "file_extension": ".py",
   "mimetype": "text/x-python",
   "name": "python",
   "nbconvert_exporter": "python",
   "pygments_lexer": "ipython3",
   "version": "3.12.3"
  }
 },
 "nbformat": 4,
 "nbformat_minor": 5
}
